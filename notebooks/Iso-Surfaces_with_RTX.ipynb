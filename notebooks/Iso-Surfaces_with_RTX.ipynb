{
 "cells": [
  {
   "cell_type": "markdown",
   "metadata": {},
   "source": [
    "# Single-Node Rendering of a Numpy Array in ParaView\n",
    "There are a ton of great visualization frameworks out there for Jupyter and iPython. Most of these work by importing data from the python kernel on the server back to the client to be visualized with Javascript. This has proven to be a very capable and flexible approach, but it's not without its drawbacks. As your data size grows, the cost to transfer between server and client becomes prohibitive--and that's if your client machine can even handle the data size to begin with. Usually, data in this category is aggregated or decimated in some way before visualization. But, if you happen to be working on a server with a big, beefy GPU, wouldn't it be nice to be able to just render the data where it lives?\n",
    "\n",
    "Server-side remote rendering, both single- and multi-node, has been standard practice in the scientific simulation community for years, supported by a set of feature-rich tools. This project brings one of the most popular scientific visualization packages, ParaView, into the Jupyter notebook.\n",
    "\n",
    "We'll work with a CT scan of a human head for our example. We'll first download it from a public source, then load it into memory using numpy. Since the data is in a raw binary format, we have to know the format ahead of time--16-bit unsigned integer, big-endian, and 256x256x113 grid dimensions. Once we have the data in a numpy array, we can use VTK's built-in numpy support to wrap the array in a vtkImageData object."
   ]
  },
  {
   "cell_type": "code",
   "execution_count": null,
   "metadata": {},
   "outputs": [],
   "source": [
    "# Make sure we're able to import urllib.request\n",
    "try:\n",
    "    from urllib.request import urlretrieve\n",
    "except ImportError:\n",
    "    from urllib import urlretrieve\n",
    "import os\n",
    "\n",
    "# Check for a cached copy of the dataset, and download it if needed\n",
    "filename = 'CT-Head.raw'\n",
    "if not os.path.exists(filename):\n",
    "    url = 'https://github.com/aashish24/vtkvolume-data/raw/master/CT-Head/CT-Head.raw'\n",
    "    urlretrieve(url, filename)\n",
    "\n",
    "# General pre-reqs\n",
    "import numpy as np\n",
    "\n",
    "# Load raw volume from disk using numpy\n",
    "npvol = np.array(np.fromfile(filename, dtype=np.uint16)).byteswap(inplace=True)\n",
    "voldims = [256,256,113]\n",
    "\n",
    "# Pre-reqs for numpy-->vtk and paraview visualization\n",
    "import vtk\n",
    "from vtk.util import numpy_support as vtknp\n",
    "\n",
    "# Create a VTK image to hold our data -- NOTE: ParaView is *very* particular about how this is set up\n",
    "vtkimg = vtk.vtkImageData()\n",
    "vtkimg.SetDimensions(voldims)\n",
    "vtkimg.SetExtent([0,voldims[0]-1, 0,voldims[1]-1, 0,voldims[2]-1])\n",
    "vtkimg.SetSpacing([1.0/voldims[0],1.0/voldims[1],1.0/voldims[2]])\n",
    "vtkimg.SetOrigin([-0.5,-0.5,-0.5])\n",
    "\n",
    "# Get a VTK wrapper around the numpy volume\n",
    "dataName = 'CTHead'\n",
    "vtkarr = vtknp.numpy_to_vtk(npvol)\n",
    "vtkarr.SetName(dataName)\n",
    "vtkimg.GetPointData().AddArray(vtkarr)\n",
    "vtkimg.GetPointData().SetScalars(vtkarr)"
   ]
  },
  {
   "cell_type": "markdown",
   "metadata": {},
   "source": [
    "With our VTk object in hand, we can initialize the ParaView state. We create three state objects--a Producer, a RenderView, and a Filter--as part of our ParaView pipeline. Since we already have our data in a VTK format, then we can just wrap it in a TrivialProducer to get it into the ParaView pipeline. The RenderView object serves as our window onto the data, and is also the way we change the resolution, camera position, etc. Finally, we add a \"Contour\" filter to ParaView's pipeline. This takes our input volume and computes an iso-value surface as a 3D mesh."
   ]
  },
  {
   "cell_type": "code",
   "execution_count": null,
   "metadata": {},
   "outputs": [],
   "source": [
    "import paraview\n",
    "from paraview.simple import *\n",
    "\n",
    "# Wrap our vtkImageData in a proxy object, then add it to the pipeline\n",
    "trivprod = TrivialProducer()\n",
    "trivprod.GetClientSideObject().SetOutput(vtkimg)\n",
    "trivprod.UpdatePipeline()\n",
    "\n",
    "paraview.simple._DisableFirstRenderCameraReset() #keeps ParaView from changing the camera settings on us\n",
    "\n",
    "# Create the primary 'Render View'\n",
    "renv = CreateView('RenderView')\n",
    "renv.ViewSize = [800, 500] # Resolution\n",
    "renv.CameraPosition = [0, 0, 2.5]   # Initial camera position\n",
    "renv.Background = [0, 0, 0] # Set the background to black\n",
    "\n",
    "# create a new 'Contour' filter to compute an isosurface from our volume\n",
    "contour = Contour(Input=trivprod)\n",
    "contour.ContourBy = ['POINTS', dataName]\n",
    "contour.Isosurfaces = [1627]\n",
    "contour.UpdatePipeline()\n",
    "\n",
    "# transform the mesh for easier viewer\n",
    "transform = Transform(Input=contour)\n",
    "transform.Transform.Translate = [0.1,0,0]\n",
    "transform.Transform.Rotate = [-90.0, -180.0, -180.0]\n",
    "transform.UpdatePipeline()\n",
    "\n",
    "# finally, create a Display object for the transformed contour and configure it's properties\n",
    "contourDisplay = Show(transform, renv)\n",
    "contourDisplay.Representation = 'Surface'\n",
    "\n",
    "#set the color of the isosurface\n",
    "ColorBy(contourDisplay, None)\n",
    "contourDisplay.AmbientColor = contourDisplay.DiffuseColor = [1, 1, 1]\n",
    "\n",
    "# add a few lights here, but disable them for now--we'll use them later\n",
    "light1,light2,light3 = AddLight(view=renv),AddLight(view=renv),AddLight(view=renv)\n",
    "light1.Enable = light2.Enable = light3.Enable = 0"
   ]
  },
  {
   "cell_type": "markdown",
   "metadata": {},
   "source": [
    "Now that ParaView's render state is initialized, we can create a VTKDisplay widget (passing in the RenderView object that we want to show). Click and drag with the left mouse button to rotate the view, drag with the middle mouse to pan, and use the mouse wheel to zoom."
   ]
  },
  {
   "cell_type": "code",
   "execution_count": null,
   "metadata": {},
   "outputs": [],
   "source": [
    "# Import the VTKDisplay widget, and create it\n",
    "from ipyparaview.widgets import VTKDisplay\n",
    "w = VTKDisplay(renv)\n",
    "display(w)"
   ]
  },
  {
   "cell_type": "markdown",
   "metadata": {},
   "source": [
    "Let's spice it up our visuals a bit by turning on the OptiX path tracing backend. Note that since we're modifying the shared render state, this will change the visualization for all displays which use the same RenderView."
   ]
  },
  {
   "cell_type": "code",
   "execution_count": null,
   "metadata": {},
   "outputs": [],
   "source": [
    "renv.BackEnd = 'OptiX pathtracer'\n",
    "renv.EnableRayTracing = 1\n",
    "renv.Denoise = 1 #turn on denoising\n",
    "renv.SamplesPerPixel = 4 #need at least 4 accumulated frames to trigger denoising\n",
    "\n",
    "#Optional: load a materials file to allow setting materials\n",
    "renv.OSPRayMaterialLibrary = GetMaterialLibrary()\n",
    "renv.OSPRayMaterialLibrary.LoadMaterials= 'materials.json'\n",
    "\n",
    "#Add a shiny ground plane to make it really obvious that we're tracing some rays\n",
    "plane = Plane()\n",
    "plane.Origin = [-3, -0.5, -3]\n",
    "plane.Point1 = [ 3, -0.5, -3]\n",
    "plane.Point2 = [-3, -0.5,  3]\n",
    "planeDisplay = Show(plane, renv)\n",
    "planeDisplay.Representation = 'Surface'\n",
    "planeDisplay.OSPRayMaterial = 'Metal'"
   ]
  },
  {
   "cell_type": "markdown",
   "metadata": {},
   "source": [
    "Since we have full access to the state, we can use iPython widgets to interactively adjust pipeline and render parameters, such as the isovalue of the contour filter. The isovalue itself is set in the callback, `iso` (which also intitiates a pipeline update), that we pass to interact. Interact infers the kind of widget we want from the provided default value and spawans a widget for us."
   ]
  },
  {
   "cell_type": "code",
   "execution_count": null,
   "metadata": {},
   "outputs": [],
   "source": [
    "# Interact from ipywidgets offers us a simple way to interactively control values with a callback function\n",
    "from ipywidgets import interact\n",
    "\n",
    "# sets the isosurface value, triggers a pipeline update, and renders the result\n",
    "def iso(isoval):\n",
    "    contour.Isosurfaces = [isoval]\n",
    "    contour.UpdatePipeline()\n",
    "    \n",
    "interact(iso, isoval=1627.0)\n",
    "display(w)"
   ]
  },
  {
   "cell_type": "markdown",
   "metadata": {},
   "source": [
    "Changing the isovalue is just scratching the surface of interative modification. A major advantage of physically-based rendering is the ability to control the lighting in order to highlight particular features of the model, or to achieve a particular aesthetic effect. This more complex example adds two directional lights and one point light, and adds some controls for direction (or position), luminance, and color."
   ]
  },
  {
   "cell_type": "code",
   "execution_count": null,
   "metadata": {},
   "outputs": [],
   "source": [
    "# First, we set up a few utility functions, and callbacks to control light parameters\n",
    "import ipywidgets as widgets\n",
    "from ipywidgets import fixed, interactive_output\n",
    "\n",
    "# Utility function for transforming (theta,phi) to (x,y,z)\n",
    "def sphereToCart(t, p):\n",
    "    from math import sin, cos, pi\n",
    "    t,p = pi*t/180.0, pi*p/180.0\n",
    "    return [sin(p)*cos(t), sin(t), cos(p)*cos(t)]\n",
    "\n",
    "# Utility function for transforming a hex code to an (r,g,b) triplet\n",
    "def hexToRGB(h):\n",
    "    return list(float(int(h.strip('#')[i:i+2], 16))/255.0 for i in (0, 2, 4))\n",
    "\n",
    "# Callback function to set direction,color,luminance for directional lights\n",
    "# dirParams = ['light','theta','phi','col','lum']\n",
    "dirParams = ['light','phi','theta','col','lum']\n",
    "def setDirLight(light, theta, phi, col, lum):\n",
    "    light.Position = sphereToCart(theta,phi)\n",
    "    light.DiffuseColor = hexToRGB(col)\n",
    "    light.Intensity = lum\n",
    "\n",
    "# Callback function to set position,color,luminance for point lights\n",
    "ptParams = ['light','x','y','z','col','lum']\n",
    "def setPtLight(light, x, y, z, col, lum):\n",
    "    light.Position = [x,y,z]\n",
    "    light.DiffuseColor = hexToRGB(col)\n",
    "    light.Intensity = lum"
   ]
  },
  {
   "cell_type": "code",
   "execution_count": null,
   "metadata": {},
   "outputs": [],
   "source": [
    "# Now we're ready to set up our lighting controls\n",
    "renv.UseLight = False #turn off ParaView's default lights\n",
    "light1.Enable = light2.Enable = light3.Enable = 1 #enable the three lights we added earlier\n",
    "light1.Type = light2.Type = 'Directional' #lights 1 and 2 are simple directional lights\n",
    "light3.Type = 'Positional' #light3 is a physical light with position, direction, cone angle, etc\n",
    "light3.ConeAngle = 0.0 #turns light3 into an omni-directional point light\n",
    "iso(1627) #reset the isovalue to its original\n",
    "\n",
    "l1 = [widgets.FloatSlider(value=308.2, min=0, max=360),\n",
    "      widgets.FloatSlider(value=0, min=-90, max=90),\n",
    "      widgets.ColorPicker(value='#ff5700'),\n",
    "      widgets.FloatLogSlider(value=1.26, base=10, min=-3, max=3, step=0.1)]\n",
    "\n",
    "l2 = [widgets.FloatSlider(value=148.9, min=0, max=360),\n",
    "      widgets.FloatSlider(value=36.7, min=-90, max=90),\n",
    "      widgets.ColorPicker(value='#109ad2'),\n",
    "      widgets.FloatLogSlider(value=1.0, base=10, min=-3, max=3, step=0.1)]\n",
    "\n",
    "l3 = [widgets.FloatSlider(value=0.1, min=-1, max=1, step=0.01),\n",
    "      widgets.FloatSlider(value=-0.33, min=-1, max=1, step=0.01),\n",
    "      widgets.FloatSlider(value=0.5, min=-1, max=1, step=0.01),\n",
    "      widgets.ColorPicker(value='#00ff00'),\n",
    "      widgets.FloatLogSlider(value=0.0158, base=10, min=-3, max=1, step=0.01)]\n",
    "\n",
    "display(widgets.HBox(l1), widgets.interactive_output(setDirLight, dict(zip(dirParams, [fixed(light1)]+l1))))\n",
    "display(widgets.HBox(l2), widgets.interactive_output(setDirLight, dict(zip(dirParams, [fixed(light2)]+l2))))\n",
    "display(widgets.HBox(l3), widgets.interactive_output(setPtLight, dict(zip(ptParams, [fixed(light3)]+l3))))\n",
    "\n",
    "display(w)"
   ]
  },
  {
   "cell_type": "markdown",
   "metadata": {},
   "source": [
    "We can re-use the same lights to create an entirely different feel for the visualization. The ability to access the ParaView rendering state means we can easily experiment inside the notebook."
   ]
  },
  {
   "cell_type": "code",
   "execution_count": null,
   "metadata": {},
   "outputs": [],
   "source": [
    "# Make a metal skull \\m/\n",
    "contourDisplay.OSPRayMaterial = 'Metal'\n",
    "\n",
    "# Change lights 1 & 2 to positional, light 3 to directional\n",
    "light1.Type = light2.Type = 'Positional' #lights 1 and 2 become physical\n",
    "light1.ConeAngle = light2.ConeAngle = 0.0 #setting an angle of 0 makes these omnidirectional\n",
    "light3.Type = 'Directional'\n",
    "\n",
    "setPtLight(light1, -0.12, 0.09, 0.24, '#ff0000', 0.891)\n",
    "setPtLight(light2,  0.12, 0.09, 0.24, '#ff0000', 0.891)\n",
    "setDirLight(light3, 43.6, 26.9, '#ffffff', 10.0)"
   ]
  }
 ],
 "metadata": {
  "kernelspec": {
   "display_name": "Python 3",
   "language": "python",
   "name": "python3"
  },
  "language_info": {
   "codemirror_mode": {
    "name": "ipython",
    "version": 3
   },
   "file_extension": ".py",
   "mimetype": "text/x-python",
   "name": "python",
   "nbconvert_exporter": "python",
   "pygments_lexer": "ipython3",
   "version": "3.7.6"
  }
 },
 "nbformat": 4,
 "nbformat_minor": 4
}
